{
 "cells": [
  {
   "cell_type": "code",
   "execution_count": 13,
   "metadata": {
    "collapsed": true
   },
   "outputs": [],
   "source": [
    "# tide data"
   ]
  },
  {
   "cell_type": "code",
   "execution_count": 14,
   "metadata": {},
   "outputs": [],
   "source": [
    "import numpy as np\n"
   ]
  },
  {
   "cell_type": "code",
   "execution_count": 15,
   "metadata": {
    "collapsed": true
   },
   "outputs": [],
   "source": [
    "infile = open(\"NVT_WATHTE_HARL.csv\")"
   ]
  },
  {
   "cell_type": "code",
   "execution_count": 16,
   "metadata": {},
   "outputs": [
    {
     "data": {
      "text/plain": [
       "<_io.TextIOWrapper name='NVT_WATHTE_HARL.csv' mode='r' encoding='UTF-8'>"
      ]
     },
     "execution_count": 16,
     "metadata": {},
     "output_type": "execute_result"
    }
   ],
   "source": [
    "infile"
   ]
  },
  {
   "cell_type": "code",
   "execution_count": 46,
   "metadata": {},
   "outputs": [],
   "source": [
    "import csv\n",
    "from datetime import datetime\n",
    "\n",
    "def read_data(filename):\n",
    "    \"\"\"\n",
    "    read the data from the gezeiten-kalender.de site and return it as two lists:\n",
    "\n",
    "    datetimes of the data\n",
    "    measured tidal heights\n",
    "    \n",
    "    hint: to convert text to datetimes:\n",
    "          times.append(datetime.strptime(dt_str, \"%d-%m-%Y %H:%M:%S\"))\n",
    "    \"\"\"\n",
    "\n",
    "    # first we need to open the file\n",
    "\n",
    "    # using \"with\" ensures that the file will be properly closed\n",
    "    # when we are done with it.\n",
    "    times = []\n",
    "    heights = []\n",
    "    with open(filename) as infile:\n",
    "        # skip the first row\n",
    "        infile.readline()\n",
    "        for row in csv.reader(infile, delimiter=\";\"):\n",
    "            try:\n",
    "                h = float(row[4])\n",
    "            except ValueError:\n",
    "                continue\n",
    "            dt_str = row[0] + \" \" + row[1]\n",
    "            # print(dt_str)\n",
    "            # dt_str = \"21-9-2018 13:50:00\"\n",
    "            dt = datetime.strptime(dt_str, \"%d-%m-%Y %H:%M:%S\")\n",
    "            # print(h)\n",
    "            heights.append(h)\n",
    "            times.append(dt)\n",
    "    heights = np.array(heights)\n",
    "    return times, heights"
   ]
  },
  {
   "cell_type": "code",
   "execution_count": 47,
   "metadata": {},
   "outputs": [],
   "source": [
    "t, h = read_data(\"NVT_WATHTE_HARL.csv\")\n",
    "import read_tide_data\n",
    "t_pred, h_pred = read_tide_data.read_data(\"GezeitenkalenderHarlingen.csv\")\n",
    "\n",
    "h_pred = np.array(h_pred)\n",
    "h = np.array(h)\n",
    "\n",
    "# convert to cm\n",
    "h_pred *= 100\n"
   ]
  },
  {
   "cell_type": "code",
   "execution_count": 48,
   "metadata": {},
   "outputs": [
    {
     "name": "stdout",
     "output_type": "stream",
     "text": [
      "9.634477773018308e-16\n",
      "-2.261861979042348e-15\n",
      "121.2457627118644\n",
      "16.00547127580204\n"
     ]
    },
    {
     "data": {
      "text/plain": [
       "(4021,)"
      ]
     },
     "execution_count": 48,
     "metadata": {},
     "output_type": "execute_result"
    }
   ],
   "source": [
    "pred_mean = h_pred.mean()\n",
    "meas_mean = h.mean()\n",
    "\n",
    "h_pred_2 = h_pred - pred_mean\n",
    "h_2 = h - meas_mean\n",
    "\n",
    "print(h_pred_2.mean())\n",
    "print(h_2.mean())\n",
    "\n",
    "print(pred_mean)\n",
    "print(meas_mean)\n",
    "\n",
    "\n",
    "h_2.shape"
   ]
  },
  {
   "cell_type": "code",
   "execution_count": 49,
   "metadata": {},
   "outputs": [],
   "source": [
    "import matplotlib.pyplot as plt\n",
    "%matplotlib inline\n",
    "\n"
   ]
  },
  {
   "cell_type": "code",
   "execution_count": 62,
   "metadata": {},
   "outputs": [
    {
     "data": {
      "text/plain": [
       "[<matplotlib.lines.Line2D at 0x1216ec6a0>,\n",
       " <matplotlib.lines.Line2D at 0x11f6b8a20>]"
      ]
     },
     "execution_count": 62,
     "metadata": {},
     "output_type": "execute_result"
    },
    {
     "data": {
      "image/png": "[encoded data removed]",
      "text/plain": [
       "<Figure size 864x576 with 1 Axes>"
      ]
     },
     "metadata": {},
     "output_type": "display_data"
    }
   ],
   "source": [
    "fig, ax = plt.subplots()\n",
    "fig.set_size_inches(12, 8)\n",
    "\n",
    "start = t[0]\n",
    "end = t[-1]\n",
    "\n",
    "start = datetime(2018, 8, 29) \n",
    "end = datetime(2018, 8, 30)\n",
    "ax.set_xlim((start, end))\n",
    "ax.plot(t, h_2, '-o', t_pred, h_pred_2, 'o')\n",
    "# ax.legend?\n",
    "\n"
   ]
  },
  {
   "cell_type": "code",
   "execution_count": 22,
   "metadata": {},
   "outputs": [
    {
     "data": {
      "text/plain": [
       "datetime.datetime(2018, 9, 21, 13, 50)"
      ]
     },
     "execution_count": 22,
     "metadata": {},
     "output_type": "execute_result"
    }
   ],
   "source": [
    "\n",
    "dt_str = \"21-9-2018 13:50:00\"\n",
    "datetime.strptime(dt_str, \"%d-%m-%Y %H:%M:%S\")\n"
   ]
  },
  {
   "cell_type": "code",
   "execution_count": 23,
   "metadata": {},
   "outputs": [
    {
     "data": {
      "text/plain": [
       "datetime.datetime(2018, 9, 3, 0, 30)"
      ]
     },
     "execution_count": 23,
     "metadata": {},
     "output_type": "execute_result"
    }
   ],
   "source": [
    "datetime(2018, 9, 3, minute=30)\n"
   ]
  },
  {
   "cell_type": "code",
   "execution_count": null,
   "metadata": {
    "collapsed": true
   },
   "outputs": [],
   "source": []
  },
  {
   "cell_type": "code",
   "execution_count": null,
   "metadata": {
    "collapsed": true
   },
   "outputs": [],
   "source": []
  }
 ],
 "metadata": {
  "kernelspec": {
   "display_name": "Python 3",
   "language": "python",
   "name": "python3"
  },
  "language_info": {
   "codemirror_mode": {
    "name": "ipython",
    "version": 3
   },
   "file_extension": ".py",
   "mimetype": "text/x-python",
   "name": "python",
   "nbconvert_exporter": "python",
   "pygments_lexer": "ipython3",
   "version": "3.6.2"
  }
 },
 "nbformat": 4,
 "nbformat_minor": 2
}
