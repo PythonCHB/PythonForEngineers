{
 "cells": [
  {
   "cell_type": "markdown",
   "metadata": {},
   "source": [
    "# Working with tide data\n",
    "\n",
    "In this notebook, we will read two different tide datasets, and compare them.\n",
    "\n",
    "One is the forecast astronomical tides\n",
    "One is the actual measured data from the same location\n"
   ]
  },
  {
   "cell_type": "code",
   "execution_count": null,
   "metadata": {},
   "outputs": [],
   "source": [
    "# some imports for the usual stuff:\n",
    "import matplotlib.pyplot as plt \n",
    "%matplotlib inline\n",
    "import numpy as np\n",
    "import scipy as sp\n",
    "\n",
    "import pandas as pd"
   ]
  },
  {
   "cell_type": "code",
   "execution_count": null,
   "metadata": {
    "collapsed": true
   },
   "outputs": [],
   "source": [
    "# create a pandas Dataframe from the csv file\n",
    "df = pd.read_csv(\"NVT_WATHTE_HARL.csv\",delimiter=';')"
   ]
  },
  {
   "cell_type": "code",
   "execution_count": null,
   "metadata": {},
   "outputs": [],
   "source": [
    "print(df)"
   ]
  },
  {
   "cell_type": "code",
   "execution_count": null,
   "metadata": {},
   "outputs": [],
   "source": [
    "fig, ax = plt.subplots()\n",
    "fig.set_size_inches((12,8))\n",
    "X = df['Tijd']\n",
    "Y = df['Meting']\n",
    "ax.plot(X,Y)\n"
   ]
  },
  {
   "cell_type": "code",
   "execution_count": null,
   "metadata": {
    "scrolled": false
   },
   "outputs": [],
   "source": [
    "from datetime import datetime\n",
    "\n",
    "date=[0]*len(df['Datum'])\n",
    "time=[0]*len(df['Datum'])\n",
    "DateTime=[0]*len(df['Datum'])\n",
    "for i in range(0,len(df['Datum'])):\n",
    "    date[i] = datetime.strptime(df['Datum'][i], \"%d-%m-%Y\")\n",
    "    time[i] = datetime.strptime(df['Tijd'][i], \"%H:%M:%S\").time()\n",
    "    DateTime[i] = datetime.combine(date[i], time[i])\n",
    "# print(DateTime)"
   ]
  },
  {
   "cell_type": "markdown",
   "metadata": {},
   "source": [
    "# Hints for parsing datetimes\n",
    "\n",
    "The python datetime object has a parser called: `datetime.strptime()`. YOu can apss it a string to parse, and a format string that tells it how it is formatted. THe format codes are doumented here: \n",
    "\n",
    "https://docs.python.org/2/library/datetime.html#strftime-and-strptime-behavior\n",
    "\n",
    "For this exercise, this format string should work:"
   ]
  },
  {
   "cell_type": "code",
   "execution_count": null,
   "metadata": {},
   "outputs": [],
   "source": [
    "dt = datetime.strptime('24-8-2018 17:50:00', \"%d-%m-%Y %H:%M:%S\" )\n",
    "print(dt)"
   ]
  },
  {
   "cell_type": "code",
   "execution_count": null,
   "metadata": {},
   "outputs": [],
   "source": [
    "import csv\n",
    "def read_tide_measurements(filename):\n",
    "    times = []\n",
    "    heights = []\n",
    "    with open(filename) as infile:\n",
    "        # skip the first row\n",
    "        infile.readline()\n",
    "        for row in csv.reader(infile, delimiter=\";\"):\n",
    "\n",
    "    # fill this in here:            \n",
    "    return times, heights"
   ]
  },
  {
   "cell_type": "code",
   "execution_count": null,
   "metadata": {},
   "outputs": [],
   "source": [
    "T, H = read_tide_measurements(\"NVT_WATHTE_HARL.csv\")\n",
    "\n",
    "fig, ax = plt.subplots()\n",
    "fig.set_size_inches((12,8))\n",
    "ax.plot(T,H)\n"
   ]
  },
  {
   "cell_type": "code",
   "execution_count": null,
   "metadata": {
    "collapsed": true
   },
   "outputs": [],
   "source": []
  },
  {
   "cell_type": "code",
   "execution_count": null,
   "metadata": {
    "collapsed": true
   },
   "outputs": [],
   "source": []
  },
  {
   "cell_type": "code",
   "execution_count": null,
   "metadata": {
    "collapsed": true
   },
   "outputs": [],
   "source": []
  }
 ],
 "metadata": {
  "kernelspec": {
   "display_name": "Python 3",
   "language": "python",
   "name": "python3"
  },
  "language_info": {
   "codemirror_mode": {
    "name": "ipython",
    "version": 3
   },
   "file_extension": ".py",
   "mimetype": "text/x-python",
   "name": "python",
   "nbconvert_exporter": "python",
   "pygments_lexer": "ipython3",
   "version": "3.6.2"
  }
 },
 "nbformat": 4,
 "nbformat_minor": 2
}
